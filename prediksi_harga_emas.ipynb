{
  "cells": [
    {
      "cell_type": "markdown",
      "id": "98f5fade",
      "metadata": {
        "id": "98f5fade"
      },
      "source": [
        "# **Prediksi Penutupan Harga Emas**\n",
        "\n"
      ]
    },
    {
      "cell_type": "markdown",
      "source": [
        "## 1. Install dan Import semua library yang dibutuhkan  "
      ],
      "metadata": {
        "id": "Enex7Vg5bdRL"
      },
      "id": "Enex7Vg5bdRL"
    },
    {
      "cell_type": "code",
      "execution_count": 6,
      "id": "b21bf4dd",
      "metadata": {
        "id": "b21bf4dd"
      },
      "outputs": [],
      "source": [
        "# 0. Install library\n",
        "!pip install yfinance pandas numpy matplotlib scikit-learn tensorflow hyperopt streamlit -q"
      ]
    },
    {
      "cell_type": "code",
      "execution_count": 68,
      "id": "55ecbe11",
      "metadata": {
        "id": "55ecbe11"
      },
      "outputs": [],
      "source": [
        "# 1. Import library\n",
        "import yfinance as yf\n",
        "import pandas as pd\n",
        "import numpy as np\n",
        "from google.colab import files\n",
        "import matplotlib.pyplot as plt\n",
        "from sklearn.preprocessing import MinMaxScaler\n",
        "from sklearn.metrics import mean_squared_error, mean_absolute_error, r2_score\n",
        "import tensorflow as tf\n",
        "from tensorflow.keras.models import Sequential\n",
        "from tensorflow.keras.layers import Input, GRU, Dense, Dropout\n",
        "from tensorflow.keras.optimizers import Adam\n",
        "from tensorflow.keras.callbacks import EarlyStopping\n",
        "from hyperopt import fmin, tpe, hp, Trials, STATUS_OK\n",
        "import random\n",
        "import numpy as np\n",
        "import tensorflow as tf\n",
        "# 2. Set seeds for reproducibility\n",
        "random.seed(42)\n",
        "np.random.seed(42)\n",
        "tf.random.set_seed(42)"
      ]
    },
    {
      "cell_type": "markdown",
      "source": [
        "## 2. Data Understanding\n"
      ],
      "metadata": {
        "id": "BUPyi0BUmquB"
      },
      "id": "BUPyi0BUmquB"
    },
    {
      "cell_type": "markdown",
      "source": [
        "### 2.1 Memuat DataSet\n",
        "Tujuan: Memahami struktur dataset dan mengidentifikasi masalah data awal.\n",
        "- Mengunduh dataset dari Yahoo  Finance\n",
        "- Menampilkan 10 baris pertama untuk melihat format data\n",
        "- Mengecek nilai yang hilang"
      ],
      "metadata": {
        "id": "5AdmYBX_m0wU"
      },
      "id": "5AdmYBX_m0wU"
    },
    {
      "cell_type": "code",
      "execution_count": 69,
      "id": "20d1fa09",
      "metadata": {
        "colab": {
          "base_uri": "https://localhost:8080/"
        },
        "id": "20d1fa09",
        "outputId": "2522e293-9f8c-45c0-ee90-c7999ffb350d"
      },
      "outputs": [
        {
          "output_type": "stream",
          "name": "stderr",
          "text": [
            "\r[*********************100%***********************]  1 of 1 completed\n"
          ]
        }
      ],
      "source": [
        "data = yf.download('GC=F', start='2015-01-01', end='2025-01-01')\n",
        "df = data[['Close']].copy()\n"
      ]
    },
    {
      "cell_type": "code",
      "source": [
        "# Simpan DataFrame Harga Emas ke CSV\n",
        "df.to_csv('gold_price_dataset.csv', index=True)"
      ],
      "metadata": {
        "id": "38ScFD8Qh6E3"
      },
      "id": "38ScFD8Qh6E3",
      "execution_count": 72,
      "outputs": []
    },
    {
      "cell_type": "code",
      "source": [
        "# Menampilkan 10 baris pertama\n",
        "df.head(10)"
      ],
      "metadata": {
        "colab": {
          "base_uri": "https://localhost:8080/",
          "height": 426
        },
        "id": "SnWpAOAXZjCY",
        "outputId": "f7900285-f7d7-4fde-df0b-b6b8ed6f424b"
      },
      "id": "SnWpAOAXZjCY",
      "execution_count": 52,
      "outputs": [
        {
          "output_type": "execute_result",
          "data": {
            "text/plain": [
              "Price             Close\n",
              "Ticker             GC=F\n",
              "Date                   \n",
              "2015-01-02  1186.000000\n",
              "2015-01-05  1203.900024\n",
              "2015-01-06  1219.300049\n",
              "2015-01-07  1210.599976\n",
              "2015-01-08  1208.400024\n",
              "2015-01-09  1216.000000\n",
              "2015-01-12  1232.699951\n",
              "2015-01-13  1234.300049\n",
              "2015-01-14  1234.400024\n",
              "2015-01-15  1264.699951"
            ],
            "text/html": [
              "\n",
              "  <div id=\"df-bdf5efa7-5887-41f0-9ce2-0af3b112237b\" class=\"colab-df-container\">\n",
              "    <div>\n",
              "<style scoped>\n",
              "    .dataframe tbody tr th:only-of-type {\n",
              "        vertical-align: middle;\n",
              "    }\n",
              "\n",
              "    .dataframe tbody tr th {\n",
              "        vertical-align: top;\n",
              "    }\n",
              "\n",
              "    .dataframe thead tr th {\n",
              "        text-align: left;\n",
              "    }\n",
              "\n",
              "    .dataframe thead tr:last-of-type th {\n",
              "        text-align: right;\n",
              "    }\n",
              "</style>\n",
              "<table border=\"1\" class=\"dataframe\">\n",
              "  <thead>\n",
              "    <tr>\n",
              "      <th>Price</th>\n",
              "      <th>Close</th>\n",
              "    </tr>\n",
              "    <tr>\n",
              "      <th>Ticker</th>\n",
              "      <th>GC=F</th>\n",
              "    </tr>\n",
              "    <tr>\n",
              "      <th>Date</th>\n",
              "      <th></th>\n",
              "    </tr>\n",
              "  </thead>\n",
              "  <tbody>\n",
              "    <tr>\n",
              "      <th>2015-01-02</th>\n",
              "      <td>1186.000000</td>\n",
              "    </tr>\n",
              "    <tr>\n",
              "      <th>2015-01-05</th>\n",
              "      <td>1203.900024</td>\n",
              "    </tr>\n",
              "    <tr>\n",
              "      <th>2015-01-06</th>\n",
              "      <td>1219.300049</td>\n",
              "    </tr>\n",
              "    <tr>\n",
              "      <th>2015-01-07</th>\n",
              "      <td>1210.599976</td>\n",
              "    </tr>\n",
              "    <tr>\n",
              "      <th>2015-01-08</th>\n",
              "      <td>1208.400024</td>\n",
              "    </tr>\n",
              "    <tr>\n",
              "      <th>2015-01-09</th>\n",
              "      <td>1216.000000</td>\n",
              "    </tr>\n",
              "    <tr>\n",
              "      <th>2015-01-12</th>\n",
              "      <td>1232.699951</td>\n",
              "    </tr>\n",
              "    <tr>\n",
              "      <th>2015-01-13</th>\n",
              "      <td>1234.300049</td>\n",
              "    </tr>\n",
              "    <tr>\n",
              "      <th>2015-01-14</th>\n",
              "      <td>1234.400024</td>\n",
              "    </tr>\n",
              "    <tr>\n",
              "      <th>2015-01-15</th>\n",
              "      <td>1264.699951</td>\n",
              "    </tr>\n",
              "  </tbody>\n",
              "</table>\n",
              "</div>\n",
              "    <div class=\"colab-df-buttons\">\n",
              "\n",
              "  <div class=\"colab-df-container\">\n",
              "    <button class=\"colab-df-convert\" onclick=\"convertToInteractive('df-bdf5efa7-5887-41f0-9ce2-0af3b112237b')\"\n",
              "            title=\"Convert this dataframe to an interactive table.\"\n",
              "            style=\"display:none;\">\n",
              "\n",
              "  <svg xmlns=\"http://www.w3.org/2000/svg\" height=\"24px\" viewBox=\"0 -960 960 960\">\n",
              "    <path d=\"M120-120v-720h720v720H120Zm60-500h600v-160H180v160Zm220 220h160v-160H400v160Zm0 220h160v-160H400v160ZM180-400h160v-160H180v160Zm440 0h160v-160H620v160ZM180-180h160v-160H180v160Zm440 0h160v-160H620v160Z\"/>\n",
              "  </svg>\n",
              "    </button>\n",
              "\n",
              "  <style>\n",
              "    .colab-df-container {\n",
              "      display:flex;\n",
              "      gap: 12px;\n",
              "    }\n",
              "\n",
              "    .colab-df-convert {\n",
              "      background-color: #E8F0FE;\n",
              "      border: none;\n",
              "      border-radius: 50%;\n",
              "      cursor: pointer;\n",
              "      display: none;\n",
              "      fill: #1967D2;\n",
              "      height: 32px;\n",
              "      padding: 0 0 0 0;\n",
              "      width: 32px;\n",
              "    }\n",
              "\n",
              "    .colab-df-convert:hover {\n",
              "      background-color: #E2EBFA;\n",
              "      box-shadow: 0px 1px 2px rgba(60, 64, 67, 0.3), 0px 1px 3px 1px rgba(60, 64, 67, 0.15);\n",
              "      fill: #174EA6;\n",
              "    }\n",
              "\n",
              "    .colab-df-buttons div {\n",
              "      margin-bottom: 4px;\n",
              "    }\n",
              "\n",
              "    [theme=dark] .colab-df-convert {\n",
              "      background-color: #3B4455;\n",
              "      fill: #D2E3FC;\n",
              "    }\n",
              "\n",
              "    [theme=dark] .colab-df-convert:hover {\n",
              "      background-color: #434B5C;\n",
              "      box-shadow: 0px 1px 3px 1px rgba(0, 0, 0, 0.15);\n",
              "      filter: drop-shadow(0px 1px 2px rgba(0, 0, 0, 0.3));\n",
              "      fill: #FFFFFF;\n",
              "    }\n",
              "  </style>\n",
              "\n",
              "    <script>\n",
              "      const buttonEl =\n",
              "        document.querySelector('#df-bdf5efa7-5887-41f0-9ce2-0af3b112237b button.colab-df-convert');\n",
              "      buttonEl.style.display =\n",
              "        google.colab.kernel.accessAllowed ? 'block' : 'none';\n",
              "\n",
              "      async function convertToInteractive(key) {\n",
              "        const element = document.querySelector('#df-bdf5efa7-5887-41f0-9ce2-0af3b112237b');\n",
              "        const dataTable =\n",
              "          await google.colab.kernel.invokeFunction('convertToInteractive',\n",
              "                                                    [key], {});\n",
              "        if (!dataTable) return;\n",
              "\n",
              "        const docLinkHtml = 'Like what you see? Visit the ' +\n",
              "          '<a target=\"_blank\" href=https://colab.research.google.com/notebooks/data_table.ipynb>data table notebook</a>'\n",
              "          + ' to learn more about interactive tables.';\n",
              "        element.innerHTML = '';\n",
              "        dataTable['output_type'] = 'display_data';\n",
              "        await google.colab.output.renderOutput(dataTable, element);\n",
              "        const docLink = document.createElement('div');\n",
              "        docLink.innerHTML = docLinkHtml;\n",
              "        element.appendChild(docLink);\n",
              "      }\n",
              "    </script>\n",
              "  </div>\n",
              "\n",
              "\n",
              "    <div id=\"df-293710f6-a908-4a68-9461-b10567de6e56\">\n",
              "      <button class=\"colab-df-quickchart\" onclick=\"quickchart('df-293710f6-a908-4a68-9461-b10567de6e56')\"\n",
              "                title=\"Suggest charts\"\n",
              "                style=\"display:none;\">\n",
              "\n",
              "<svg xmlns=\"http://www.w3.org/2000/svg\" height=\"24px\"viewBox=\"0 0 24 24\"\n",
              "     width=\"24px\">\n",
              "    <g>\n",
              "        <path d=\"M19 3H5c-1.1 0-2 .9-2 2v14c0 1.1.9 2 2 2h14c1.1 0 2-.9 2-2V5c0-1.1-.9-2-2-2zM9 17H7v-7h2v7zm4 0h-2V7h2v10zm4 0h-2v-4h2v4z\"/>\n",
              "    </g>\n",
              "</svg>\n",
              "      </button>\n",
              "\n",
              "<style>\n",
              "  .colab-df-quickchart {\n",
              "      --bg-color: #E8F0FE;\n",
              "      --fill-color: #1967D2;\n",
              "      --hover-bg-color: #E2EBFA;\n",
              "      --hover-fill-color: #174EA6;\n",
              "      --disabled-fill-color: #AAA;\n",
              "      --disabled-bg-color: #DDD;\n",
              "  }\n",
              "\n",
              "  [theme=dark] .colab-df-quickchart {\n",
              "      --bg-color: #3B4455;\n",
              "      --fill-color: #D2E3FC;\n",
              "      --hover-bg-color: #434B5C;\n",
              "      --hover-fill-color: #FFFFFF;\n",
              "      --disabled-bg-color: #3B4455;\n",
              "      --disabled-fill-color: #666;\n",
              "  }\n",
              "\n",
              "  .colab-df-quickchart {\n",
              "    background-color: var(--bg-color);\n",
              "    border: none;\n",
              "    border-radius: 50%;\n",
              "    cursor: pointer;\n",
              "    display: none;\n",
              "    fill: var(--fill-color);\n",
              "    height: 32px;\n",
              "    padding: 0;\n",
              "    width: 32px;\n",
              "  }\n",
              "\n",
              "  .colab-df-quickchart:hover {\n",
              "    background-color: var(--hover-bg-color);\n",
              "    box-shadow: 0 1px 2px rgba(60, 64, 67, 0.3), 0 1px 3px 1px rgba(60, 64, 67, 0.15);\n",
              "    fill: var(--button-hover-fill-color);\n",
              "  }\n",
              "\n",
              "  .colab-df-quickchart-complete:disabled,\n",
              "  .colab-df-quickchart-complete:disabled:hover {\n",
              "    background-color: var(--disabled-bg-color);\n",
              "    fill: var(--disabled-fill-color);\n",
              "    box-shadow: none;\n",
              "  }\n",
              "\n",
              "  .colab-df-spinner {\n",
              "    border: 2px solid var(--fill-color);\n",
              "    border-color: transparent;\n",
              "    border-bottom-color: var(--fill-color);\n",
              "    animation:\n",
              "      spin 1s steps(1) infinite;\n",
              "  }\n",
              "\n",
              "  @keyframes spin {\n",
              "    0% {\n",
              "      border-color: transparent;\n",
              "      border-bottom-color: var(--fill-color);\n",
              "      border-left-color: var(--fill-color);\n",
              "    }\n",
              "    20% {\n",
              "      border-color: transparent;\n",
              "      border-left-color: var(--fill-color);\n",
              "      border-top-color: var(--fill-color);\n",
              "    }\n",
              "    30% {\n",
              "      border-color: transparent;\n",
              "      border-left-color: var(--fill-color);\n",
              "      border-top-color: var(--fill-color);\n",
              "      border-right-color: var(--fill-color);\n",
              "    }\n",
              "    40% {\n",
              "      border-color: transparent;\n",
              "      border-right-color: var(--fill-color);\n",
              "      border-top-color: var(--fill-color);\n",
              "    }\n",
              "    60% {\n",
              "      border-color: transparent;\n",
              "      border-right-color: var(--fill-color);\n",
              "    }\n",
              "    80% {\n",
              "      border-color: transparent;\n",
              "      border-right-color: var(--fill-color);\n",
              "      border-bottom-color: var(--fill-color);\n",
              "    }\n",
              "    90% {\n",
              "      border-color: transparent;\n",
              "      border-bottom-color: var(--fill-color);\n",
              "    }\n",
              "  }\n",
              "</style>\n",
              "\n",
              "      <script>\n",
              "        async function quickchart(key) {\n",
              "          const quickchartButtonEl =\n",
              "            document.querySelector('#' + key + ' button');\n",
              "          quickchartButtonEl.disabled = true;  // To prevent multiple clicks.\n",
              "          quickchartButtonEl.classList.add('colab-df-spinner');\n",
              "          try {\n",
              "            const charts = await google.colab.kernel.invokeFunction(\n",
              "                'suggestCharts', [key], {});\n",
              "          } catch (error) {\n",
              "            console.error('Error during call to suggestCharts:', error);\n",
              "          }\n",
              "          quickchartButtonEl.classList.remove('colab-df-spinner');\n",
              "          quickchartButtonEl.classList.add('colab-df-quickchart-complete');\n",
              "        }\n",
              "        (() => {\n",
              "          let quickchartButtonEl =\n",
              "            document.querySelector('#df-293710f6-a908-4a68-9461-b10567de6e56 button');\n",
              "          quickchartButtonEl.style.display =\n",
              "            google.colab.kernel.accessAllowed ? 'block' : 'none';\n",
              "        })();\n",
              "      </script>\n",
              "    </div>\n",
              "\n",
              "    </div>\n",
              "  </div>\n"
            ],
            "application/vnd.google.colaboratory.intrinsic+json": {
              "type": "dataframe",
              "variable_name": "df",
              "summary": "{\n  \"name\": \"df\",\n  \"rows\": 2513,\n  \"fields\": [\n    {\n      \"column\": [\n        \"Date\",\n        \"\"\n      ],\n      \"properties\": {\n        \"dtype\": \"date\",\n        \"min\": \"2015-01-02 00:00:00\",\n        \"max\": \"2024-12-31 00:00:00\",\n        \"num_unique_values\": 2513,\n        \"samples\": [\n          \"2017-10-16 00:00:00\",\n          \"2016-09-21 00:00:00\",\n          \"2019-04-09 00:00:00\"\n        ],\n        \"semantic_type\": \"\",\n        \"description\": \"\"\n      }\n    },\n    {\n      \"column\": [\n        \"Close\",\n        \"GC=F\"\n      ],\n      \"properties\": {\n        \"dtype\": \"number\",\n        \"std\": 393.08630776165154,\n        \"min\": 1050.800048828125,\n        \"max\": 2788.5,\n        \"num_unique_values\": 2135,\n        \"samples\": [\n          1795.5,\n          1075.0999755859375,\n          2415.0\n        ],\n        \"semantic_type\": \"\",\n        \"description\": \"\"\n      }\n    }\n  ]\n}"
            }
          },
          "metadata": {},
          "execution_count": 52
        }
      ]
    },
    {
      "cell_type": "code",
      "source": [
        "# Tampilkan informasi dataset\n",
        "df.info()"
      ],
      "metadata": {
        "colab": {
          "base_uri": "https://localhost:8080/"
        },
        "id": "OynGbmUynQ2A",
        "outputId": "e81c2101-c612-44d3-a7d9-e542fe16a97b"
      },
      "id": "OynGbmUynQ2A",
      "execution_count": 73,
      "outputs": [
        {
          "output_type": "stream",
          "name": "stdout",
          "text": [
            "<class 'pandas.core.frame.DataFrame'>\n",
            "DatetimeIndex: 2513 entries, 2015-01-02 to 2024-12-31\n",
            "Data columns (total 1 columns):\n",
            " #   Column         Non-Null Count  Dtype  \n",
            "---  ------         --------------  -----  \n",
            " 0   (Close, GC=F)  2513 non-null   float64\n",
            "dtypes: float64(1)\n",
            "memory usage: 39.3 KB\n"
          ]
        }
      ]
    },
    {
      "cell_type": "code",
      "source": [
        "# Describe data\n",
        "df['Close'].describe()"
      ],
      "metadata": {
        "colab": {
          "base_uri": "https://localhost:8080/",
          "height": 300
        },
        "id": "GhlRqSuvaE0U",
        "outputId": "867274e2-e42a-4a7f-873b-f4b60b1be1f9"
      },
      "id": "GhlRqSuvaE0U",
      "execution_count": 78,
      "outputs": [
        {
          "output_type": "execute_result",
          "data": {
            "text/plain": [
              "Ticker         GC=F\n",
              "count   2513.000000\n",
              "mean    1603.429008\n",
              "std      393.086308\n",
              "min     1050.800049\n",
              "25%     1262.199951\n",
              "50%     1526.599976\n",
              "75%     1870.199951\n",
              "max     2788.500000"
            ],
            "text/html": [
              "\n",
              "  <div id=\"df-57b84445-b71d-4e31-b48a-0d529b3e249a\" class=\"colab-df-container\">\n",
              "    <div>\n",
              "<style scoped>\n",
              "    .dataframe tbody tr th:only-of-type {\n",
              "        vertical-align: middle;\n",
              "    }\n",
              "\n",
              "    .dataframe tbody tr th {\n",
              "        vertical-align: top;\n",
              "    }\n",
              "\n",
              "    .dataframe thead th {\n",
              "        text-align: right;\n",
              "    }\n",
              "</style>\n",
              "<table border=\"1\" class=\"dataframe\">\n",
              "  <thead>\n",
              "    <tr style=\"text-align: right;\">\n",
              "      <th>Ticker</th>\n",
              "      <th>GC=F</th>\n",
              "    </tr>\n",
              "  </thead>\n",
              "  <tbody>\n",
              "    <tr>\n",
              "      <th>count</th>\n",
              "      <td>2513.000000</td>\n",
              "    </tr>\n",
              "    <tr>\n",
              "      <th>mean</th>\n",
              "      <td>1603.429008</td>\n",
              "    </tr>\n",
              "    <tr>\n",
              "      <th>std</th>\n",
              "      <td>393.086308</td>\n",
              "    </tr>\n",
              "    <tr>\n",
              "      <th>min</th>\n",
              "      <td>1050.800049</td>\n",
              "    </tr>\n",
              "    <tr>\n",
              "      <th>25%</th>\n",
              "      <td>1262.199951</td>\n",
              "    </tr>\n",
              "    <tr>\n",
              "      <th>50%</th>\n",
              "      <td>1526.599976</td>\n",
              "    </tr>\n",
              "    <tr>\n",
              "      <th>75%</th>\n",
              "      <td>1870.199951</td>\n",
              "    </tr>\n",
              "    <tr>\n",
              "      <th>max</th>\n",
              "      <td>2788.500000</td>\n",
              "    </tr>\n",
              "  </tbody>\n",
              "</table>\n",
              "</div>\n",
              "    <div class=\"colab-df-buttons\">\n",
              "\n",
              "  <div class=\"colab-df-container\">\n",
              "    <button class=\"colab-df-convert\" onclick=\"convertToInteractive('df-57b84445-b71d-4e31-b48a-0d529b3e249a')\"\n",
              "            title=\"Convert this dataframe to an interactive table.\"\n",
              "            style=\"display:none;\">\n",
              "\n",
              "  <svg xmlns=\"http://www.w3.org/2000/svg\" height=\"24px\" viewBox=\"0 -960 960 960\">\n",
              "    <path d=\"M120-120v-720h720v720H120Zm60-500h600v-160H180v160Zm220 220h160v-160H400v160Zm0 220h160v-160H400v160ZM180-400h160v-160H180v160Zm440 0h160v-160H620v160ZM180-180h160v-160H180v160Zm440 0h160v-160H620v160Z\"/>\n",
              "  </svg>\n",
              "    </button>\n",
              "\n",
              "  <style>\n",
              "    .colab-df-container {\n",
              "      display:flex;\n",
              "      gap: 12px;\n",
              "    }\n",
              "\n",
              "    .colab-df-convert {\n",
              "      background-color: #E8F0FE;\n",
              "      border: none;\n",
              "      border-radius: 50%;\n",
              "      cursor: pointer;\n",
              "      display: none;\n",
              "      fill: #1967D2;\n",
              "      height: 32px;\n",
              "      padding: 0 0 0 0;\n",
              "      width: 32px;\n",
              "    }\n",
              "\n",
              "    .colab-df-convert:hover {\n",
              "      background-color: #E2EBFA;\n",
              "      box-shadow: 0px 1px 2px rgba(60, 64, 67, 0.3), 0px 1px 3px 1px rgba(60, 64, 67, 0.15);\n",
              "      fill: #174EA6;\n",
              "    }\n",
              "\n",
              "    .colab-df-buttons div {\n",
              "      margin-bottom: 4px;\n",
              "    }\n",
              "\n",
              "    [theme=dark] .colab-df-convert {\n",
              "      background-color: #3B4455;\n",
              "      fill: #D2E3FC;\n",
              "    }\n",
              "\n",
              "    [theme=dark] .colab-df-convert:hover {\n",
              "      background-color: #434B5C;\n",
              "      box-shadow: 0px 1px 3px 1px rgba(0, 0, 0, 0.15);\n",
              "      filter: drop-shadow(0px 1px 2px rgba(0, 0, 0, 0.3));\n",
              "      fill: #FFFFFF;\n",
              "    }\n",
              "  </style>\n",
              "\n",
              "    <script>\n",
              "      const buttonEl =\n",
              "        document.querySelector('#df-57b84445-b71d-4e31-b48a-0d529b3e249a button.colab-df-convert');\n",
              "      buttonEl.style.display =\n",
              "        google.colab.kernel.accessAllowed ? 'block' : 'none';\n",
              "\n",
              "      async function convertToInteractive(key) {\n",
              "        const element = document.querySelector('#df-57b84445-b71d-4e31-b48a-0d529b3e249a');\n",
              "        const dataTable =\n",
              "          await google.colab.kernel.invokeFunction('convertToInteractive',\n",
              "                                                    [key], {});\n",
              "        if (!dataTable) return;\n",
              "\n",
              "        const docLinkHtml = 'Like what you see? Visit the ' +\n",
              "          '<a target=\"_blank\" href=https://colab.research.google.com/notebooks/data_table.ipynb>data table notebook</a>'\n",
              "          + ' to learn more about interactive tables.';\n",
              "        element.innerHTML = '';\n",
              "        dataTable['output_type'] = 'display_data';\n",
              "        await google.colab.output.renderOutput(dataTable, element);\n",
              "        const docLink = document.createElement('div');\n",
              "        docLink.innerHTML = docLinkHtml;\n",
              "        element.appendChild(docLink);\n",
              "      }\n",
              "    </script>\n",
              "  </div>\n",
              "\n",
              "\n",
              "    <div id=\"df-ded32a2b-823b-4a74-8522-3990e99d3bcd\">\n",
              "      <button class=\"colab-df-quickchart\" onclick=\"quickchart('df-ded32a2b-823b-4a74-8522-3990e99d3bcd')\"\n",
              "                title=\"Suggest charts\"\n",
              "                style=\"display:none;\">\n",
              "\n",
              "<svg xmlns=\"http://www.w3.org/2000/svg\" height=\"24px\"viewBox=\"0 0 24 24\"\n",
              "     width=\"24px\">\n",
              "    <g>\n",
              "        <path d=\"M19 3H5c-1.1 0-2 .9-2 2v14c0 1.1.9 2 2 2h14c1.1 0 2-.9 2-2V5c0-1.1-.9-2-2-2zM9 17H7v-7h2v7zm4 0h-2V7h2v10zm4 0h-2v-4h2v4z\"/>\n",
              "    </g>\n",
              "</svg>\n",
              "      </button>\n",
              "\n",
              "<style>\n",
              "  .colab-df-quickchart {\n",
              "      --bg-color: #E8F0FE;\n",
              "      --fill-color: #1967D2;\n",
              "      --hover-bg-color: #E2EBFA;\n",
              "      --hover-fill-color: #174EA6;\n",
              "      --disabled-fill-color: #AAA;\n",
              "      --disabled-bg-color: #DDD;\n",
              "  }\n",
              "\n",
              "  [theme=dark] .colab-df-quickchart {\n",
              "      --bg-color: #3B4455;\n",
              "      --fill-color: #D2E3FC;\n",
              "      --hover-bg-color: #434B5C;\n",
              "      --hover-fill-color: #FFFFFF;\n",
              "      --disabled-bg-color: #3B4455;\n",
              "      --disabled-fill-color: #666;\n",
              "  }\n",
              "\n",
              "  .colab-df-quickchart {\n",
              "    background-color: var(--bg-color);\n",
              "    border: none;\n",
              "    border-radius: 50%;\n",
              "    cursor: pointer;\n",
              "    display: none;\n",
              "    fill: var(--fill-color);\n",
              "    height: 32px;\n",
              "    padding: 0;\n",
              "    width: 32px;\n",
              "  }\n",
              "\n",
              "  .colab-df-quickchart:hover {\n",
              "    background-color: var(--hover-bg-color);\n",
              "    box-shadow: 0 1px 2px rgba(60, 64, 67, 0.3), 0 1px 3px 1px rgba(60, 64, 67, 0.15);\n",
              "    fill: var(--button-hover-fill-color);\n",
              "  }\n",
              "\n",
              "  .colab-df-quickchart-complete:disabled,\n",
              "  .colab-df-quickchart-complete:disabled:hover {\n",
              "    background-color: var(--disabled-bg-color);\n",
              "    fill: var(--disabled-fill-color);\n",
              "    box-shadow: none;\n",
              "  }\n",
              "\n",
              "  .colab-df-spinner {\n",
              "    border: 2px solid var(--fill-color);\n",
              "    border-color: transparent;\n",
              "    border-bottom-color: var(--fill-color);\n",
              "    animation:\n",
              "      spin 1s steps(1) infinite;\n",
              "  }\n",
              "\n",
              "  @keyframes spin {\n",
              "    0% {\n",
              "      border-color: transparent;\n",
              "      border-bottom-color: var(--fill-color);\n",
              "      border-left-color: var(--fill-color);\n",
              "    }\n",
              "    20% {\n",
              "      border-color: transparent;\n",
              "      border-left-color: var(--fill-color);\n",
              "      border-top-color: var(--fill-color);\n",
              "    }\n",
              "    30% {\n",
              "      border-color: transparent;\n",
              "      border-left-color: var(--fill-color);\n",
              "      border-top-color: var(--fill-color);\n",
              "      border-right-color: var(--fill-color);\n",
              "    }\n",
              "    40% {\n",
              "      border-color: transparent;\n",
              "      border-right-color: var(--fill-color);\n",
              "      border-top-color: var(--fill-color);\n",
              "    }\n",
              "    60% {\n",
              "      border-color: transparent;\n",
              "      border-right-color: var(--fill-color);\n",
              "    }\n",
              "    80% {\n",
              "      border-color: transparent;\n",
              "      border-right-color: var(--fill-color);\n",
              "      border-bottom-color: var(--fill-color);\n",
              "    }\n",
              "    90% {\n",
              "      border-color: transparent;\n",
              "      border-bottom-color: var(--fill-color);\n",
              "    }\n",
              "  }\n",
              "</style>\n",
              "\n",
              "      <script>\n",
              "        async function quickchart(key) {\n",
              "          const quickchartButtonEl =\n",
              "            document.querySelector('#' + key + ' button');\n",
              "          quickchartButtonEl.disabled = true;  // To prevent multiple clicks.\n",
              "          quickchartButtonEl.classList.add('colab-df-spinner');\n",
              "          try {\n",
              "            const charts = await google.colab.kernel.invokeFunction(\n",
              "                'suggestCharts', [key], {});\n",
              "          } catch (error) {\n",
              "            console.error('Error during call to suggestCharts:', error);\n",
              "          }\n",
              "          quickchartButtonEl.classList.remove('colab-df-spinner');\n",
              "          quickchartButtonEl.classList.add('colab-df-quickchart-complete');\n",
              "        }\n",
              "        (() => {\n",
              "          let quickchartButtonEl =\n",
              "            document.querySelector('#df-ded32a2b-823b-4a74-8522-3990e99d3bcd button');\n",
              "          quickchartButtonEl.style.display =\n",
              "            google.colab.kernel.accessAllowed ? 'block' : 'none';\n",
              "        })();\n",
              "      </script>\n",
              "    </div>\n",
              "\n",
              "    </div>\n",
              "  </div>\n"
            ],
            "application/vnd.google.colaboratory.intrinsic+json": {
              "type": "dataframe",
              "summary": "{\n  \"name\": \"df['Close']\",\n  \"rows\": 8,\n  \"fields\": [\n    {\n      \"column\": \"GC=F\",\n      \"properties\": {\n        \"dtype\": \"number\",\n        \"std\": 773.8106365143997,\n        \"min\": 393.08630776165154,\n        \"max\": 2788.5,\n        \"num_unique_values\": 8,\n        \"samples\": [\n          1603.4290080740307,\n          1526.5999755859375,\n          2513.0\n        ],\n        \"semantic_type\": \"\",\n        \"description\": \"\"\n      }\n    }\n  ]\n}"
            }
          },
          "metadata": {},
          "execution_count": 78
        }
      ]
    },
    {
      "cell_type": "markdown",
      "source": [
        "### 2.2 Analisis Kualitas Data\n",
        "Insight:\n",
        "- Terdapat 2513 baris dataset\n",
        "- **Tidak ada data yang kosong** - menunjukkan data relatif bersih\n"
      ],
      "metadata": {
        "id": "0wHedX12ngJm"
      },
      "id": "0wHedX12ngJm"
    },
    {
      "cell_type": "code",
      "source": [
        "# Periksa nilai yang hilang\n",
        "df.isnull().sum()"
      ],
      "metadata": {
        "colab": {
          "base_uri": "https://localhost:8080/",
          "height": 147
        },
        "id": "0GNo8mKJYpw6",
        "outputId": "92e55028-6f04-448a-f878-a3cb4b5c96bf"
      },
      "id": "0GNo8mKJYpw6",
      "execution_count": 77,
      "outputs": [
        {
          "output_type": "execute_result",
          "data": {
            "text/plain": [
              "Price  Ticker\n",
              "Close  GC=F      0\n",
              "dtype: int64"
            ],
            "text/html": [
              "<div>\n",
              "<style scoped>\n",
              "    .dataframe tbody tr th:only-of-type {\n",
              "        vertical-align: middle;\n",
              "    }\n",
              "\n",
              "    .dataframe tbody tr th {\n",
              "        vertical-align: top;\n",
              "    }\n",
              "\n",
              "    .dataframe thead th {\n",
              "        text-align: right;\n",
              "    }\n",
              "</style>\n",
              "<table border=\"1\" class=\"dataframe\">\n",
              "  <thead>\n",
              "    <tr style=\"text-align: right;\">\n",
              "      <th></th>\n",
              "      <th></th>\n",
              "      <th>0</th>\n",
              "    </tr>\n",
              "    <tr>\n",
              "      <th>Price</th>\n",
              "      <th>Ticker</th>\n",
              "      <th></th>\n",
              "    </tr>\n",
              "  </thead>\n",
              "  <tbody>\n",
              "    <tr>\n",
              "      <th>Close</th>\n",
              "      <th>GC=F</th>\n",
              "      <td>0</td>\n",
              "    </tr>\n",
              "  </tbody>\n",
              "</table>\n",
              "</div><br><label><b>dtype:</b> int64</label>"
            ]
          },
          "metadata": {},
          "execution_count": 77
        }
      ]
    },
    {
      "cell_type": "markdown",
      "source": [
        "## 3. Exploratory Data Analysis\n"
      ],
      "metadata": {
        "id": "8UsQvgtporuz"
      },
      "id": "8UsQvgtporuz"
    },
    {
      "cell_type": "markdown",
      "source": [
        "### 3.1 Distribusi Harga Penutupan Emas\n",
        "\n",
        "Kode di bawah ini digunakan untuk memvisualisasikan distribusi harga penutupan (close price) dari data emas menggunakan histogram dan kurva KDE (Kernel Density Estimate). Visualisasi dibuat dengan `seaborn.histplot()` untuk menampilkan frekuensi nilai pada kolom **'Close'** dalam bentuk batang histogram dan kurva distribusi. Parameter `kde=True` menambahkan kurva KDE untuk menunjukkan estimasi distribusi probabilitas.\n",
        "\n",
        "\n",
        "**Insight:**\n",
        "- Harga emas menunjukkan distribusi multimodal, dengan dua puncak utama di sekitar harga 1250 dan 1800.\n",
        "- Terdapat rentang harga yang cukup lebar, dari sekitar 1050 hingga lebih dari 2700.\n",
        "- Pola ini bisa mencerminkan beberapa periode tren pasar yang berbeda, seperti bullish dan bearish.\n"
      ],
      "metadata": {
        "id": "zu_sZRlXouTf"
      },
      "id": "zu_sZRlXouTf"
    },
    {
      "cell_type": "code",
      "source": [
        "# Memvisualisasikan distribusi harga 'Close'\n",
        "plt.figure(figsize=(8, 6))\n",
        "sns.histplot(df['Close'], kde=True)\n",
        "plt.title('Distribution of Gold Close Prices')\n",
        "plt.xlabel('Close Price')\n",
        "plt.ylabel('Frequency')\n",
        "plt.show()"
      ],
      "metadata": {
        "colab": {
          "base_uri": "https://localhost:8080/",
          "height": 564
        },
        "id": "OgsEo0j6YtqF",
        "outputId": "39daf568-d721-447f-a910-0277dcea5818"
      },
      "id": "OgsEo0j6YtqF",
      "execution_count": 54,
      "outputs": [
        {
          "output_type": "display_data",
          "data": {
            "text/plain": [
              "<Figure size 800x600 with 1 Axes>"
            ],
            "image/png": "[encoded data removed]"
          },
          "metadata": {}
        }
      ]
    },
    {
      "cell_type": "markdown",
      "source": [
        "### 3.2 Visualisasi Tren Penutupan Harga Emas\n",
        "\n",
        "Kode di bawah ini membuat line chart untuk memvisualisasikan pergerakan harga emas (Close) dari tahun 2015 hingga 2025 ( 10 tahun).\n",
        "\n",
        "**Insight:**\n",
        "- Harga emas mengalami tren naik signifikan sejak 2019, dengan lonjakan tajam terutama di tahun 2020 dan 2024.\n",
        "- Pergerakan harga cukup volatil, namun secara keseluruhan menunjukkan arah bullish (naik).\n",
        "- Lonjakan besar pada tahun 2020 kemungkinan berkaitan dengan ketidakpastian ekonomi global (misalnya pandemi COVID-19).\n"
      ],
      "metadata": {
        "id": "912SCO5YqJG8"
      },
      "id": "912SCO5YqJG8"
    },
    {
      "cell_type": "code",
      "source": [
        "# Plot Grafik harga emas\n",
        "def plot_close(series, title=\"Harga Emas (Close)\"):\n",
        "    plt.figure(figsize=(12,5))\n",
        "    plt.plot(series)\n",
        "    plt.title(title)\n",
        "    plt.xlabel('Tanggal'), plt.ylabel('Harga')\n",
        "    plt.show()\n",
        "plot_close(df['Close'])"
      ],
      "metadata": {
        "colab": {
          "base_uri": "https://localhost:8080/",
          "height": 487
        },
        "id": "YDQGjKAaZ_z7",
        "outputId": "963637ef-a900-4d29-a56e-4ca3458f95b5"
      },
      "id": "YDQGjKAaZ_z7",
      "execution_count": 59,
      "outputs": [
        {
          "output_type": "display_data",
          "data": {
            "text/plain": [
              "<Figure size 1200x500 with 1 Axes>"
            ],
            "image/png": "[encoded data removed]"
          },
          "metadata": {}
        }
      ]
    },
    {
      "cell_type": "markdown",
      "source": [
        "## 4. Data Preparation\n",
        "- Karena data sudah bersih, jadi tidak dilakukan pembersihan data\n",
        "- Normalisasi dan Pembentukan Data Time Series\n",
        "- Pembagian Dataset Time Series (Train, Validation, Test)  "
      ],
      "metadata": {
        "id": "POGC4yfyqkuY"
      },
      "id": "POGC4yfyqkuY"
    },
    {
      "cell_type": "markdown",
      "id": "2aacd213",
      "metadata": {
        "id": "2aacd213"
      },
      "source": [
        "### 4.1 Normalisasi dan Pembentukan Data Time Series untuk Model GRU  \n",
        "**Fungsi Kode**:  \n",
        "Kode ini bertujuan untuk menyiapkan data time series agar dapat digunakan dalam model deep learning seperti GRU. Proses ini meliputi normalisasi data harga penutupan dan pembentukan data dalam bentuk sekuens sliding window.\n",
        "\n",
        "**Langkah-langkah**:\n",
        "1. **Normalisasi Data**:\n",
        "   - Kolom `'Close'` dinormalisasi ke dalam rentang [0, 1] menggunakan `MinMaxScaler()` dari `sklearn`, dan hasilnya disimpan ke kolom baru `'Close_s'`.\n",
        "   - Tujuannya adalah agar model lebih mudah belajar dan konvergen lebih cepat saat training.\n",
        "\n",
        "2. **Fungsi Pembentukan Sekuens**:\n",
        "   - Fungsi `create_sequences()` membuat data input `X` dan target `y` untuk model time series.\n",
        "   - Menggunakan pendekatan *sliding window* sebesar `window_size`, yaitu 60 data sebelumnya digunakan untuk memprediksi data ke-61.\n",
        "   - Data input (`X`) berupa array 2D dari sekuens, dan target (`y`) adalah nilai setelah sekuens.\n",
        "\n",
        "3. **Penerapan dan Reshape**:\n",
        "   - Nilai series diambil dari kolom `'Close_s'` yang telah dinormalisasi.\n",
        "   - Data `X` dibentuk ulang ke dalam dimensi `(samples, timesteps, features)` menjadi `(N, 60, 1)`, sesuai input standar model GRU.\n",
        "\n",
        "\n",
        "\n",
        "4. **Output Dimensi**:\n",
        "   - Dicetak dimensi hasil `X` dan `y` untuk memastikan bentuk input sudah sesuai.\n",
        "\n",
        "\n",
        "**Keuntungan**:\n",
        "- Normalisasi membantu mempercepat konvergensi model dan menghindari dominasi fitur dengan skala besar.\n",
        "- Pembentukan sekuens memungkinkan pemodelan dependensi temporal yang sangat penting dalam prediksi time series.\n",
        "- Format `(samples, timesteps, features)` kompatibel langsung dengan arsitektur GRU di Keras atau PyTorch.\n",
        "\n",
        "**Insight**:\n",
        "- Proses ini menghasilkan pasangan input-output yang merepresentasikan dinamika harga emas dalam 60 hari terakhir untuk memprediksi harga hari berikutnya.\n",
        "- Ideal untuk digunakan dalam model GRU karena menangkap pola historis dan fluktuasi jangka pendek secara eksplisit.\n",
        "\n"
      ]
    },
    {
      "cell_type": "code",
      "execution_count": 9,
      "id": "4941aa75",
      "metadata": {
        "colab": {
          "base_uri": "https://localhost:8080/"
        },
        "id": "4941aa75",
        "outputId": "e380d086-7703-4e7a-d65d-5fe1e5cccb05"
      },
      "outputs": [
        {
          "output_type": "stream",
          "name": "stdout",
          "text": [
            "Shape X: (2453, 60, 1), y: (2453,)\n"
          ]
        }
      ],
      "source": [
        "df_scaler = MinMaxScaler()\n",
        "df['Close_s'] = df_scaler.fit_transform(df[['Close']])\n",
        "def create_sequences(series, window_size):\n",
        "    X, y = [], []\n",
        "    for i in range(len(series)-window_size):\n",
        "        X.append(series[i:i+window_size])\n",
        "        y.append(series[i+window_size])\n",
        "    return np.array(X), np.array(y)\n",
        "WINDOW = 60\n",
        "series = df['Close_s'].values\n",
        "X, y = create_sequences(series, WINDOW)\n",
        "X = X.reshape((X.shape[0], WINDOW, 1))\n",
        "print(f\"Shape X: {X.shape}, y: {y.shape}\")"
      ]
    },
    {
      "cell_type": "markdown",
      "source": [
        "\n",
        "### 4.2 Pembagian Dataset Time Series (Train, Validation, Test)  \n",
        "**Fungsi Kode**:  \n",
        "Kode ini digunakan untuk membagi dataset yang telah dibentuk menjadi sekuens menjadi tiga bagian utama: **training**, **validation**, dan **testing**, sesuai dengan proporsi yang umum digunakan dalam pelatihan model machine learning dan deep learning.\n",
        "\n",
        "**Langkah-langkah**:\n",
        "1. **Menentukan Ukuran Dataset**:\n",
        "   - Variabel `total` menyimpan jumlah total sampel dalam array `X`.\n",
        "   - Indeks akhir untuk data training dan validation dihitung berdasarkan proporsi:\n",
        "     - 70% untuk **train**\n",
        "     - 15% untuk **validation**\n",
        "     - 15% sisanya untuk **test**\n",
        "\n",
        "\n",
        "\n",
        "2. **Pembagian Dataset**:\n",
        "   - Data dibagi menggunakan slicing berdasarkan indeks yang telah dihitung:\n",
        "     - `X_train`, `y_train` untuk pelatihan model.\n",
        "     - `X_val`, `y_val` untuk validasi selama proses pelatihan.\n",
        "     - `X_test`, `y_test` untuk evaluasi akhir performa model.\n",
        "\n",
        "\n",
        "\n",
        "3. **Pengecekan Bentuk Data**:\n",
        "   - Menampilkan ukuran masing-masing subset untuk memastikan pembagian data sudah sesuai proporsi dan tidak terjadi kehilangan data.\n",
        "\n",
        "\n",
        "**Keuntungan**:\n",
        "- Pembagian data secara berurutan (bukan acak) menjaga urutan temporal pada data time series, yang penting untuk menghindari *data leakage*.\n",
        "- Memberikan struktur yang baik untuk pelatihan, tuning, dan evaluasi model secara terpisah.\n",
        "- Memastikan generalisasi model tidak hanya berdasarkan data yang pernah dilihat selama pelatihan.\n",
        "\n",
        "**Insight**:\n",
        "- Proporsi 70:15:15 merupakan pilihan seimbang untuk proyek deep learning skala sedang.\n",
        "- Validation set digunakan untuk menghindari overfitting, sedangkan test set akan mencerminkan kemampuan model pada data nyata yang belum pernah dilihat.\n",
        "\n"
      ],
      "metadata": {
        "id": "APHkr2mGtIH9"
      },
      "id": "APHkr2mGtIH9"
    },
    {
      "cell_type": "code",
      "execution_count": 10,
      "id": "297f7098",
      "metadata": {
        "colab": {
          "base_uri": "https://localhost:8080/"
        },
        "id": "297f7098",
        "outputId": "74a247f3-ef86-42d7-e616-b4956774bc5c"
      },
      "outputs": [
        {
          "output_type": "stream",
          "name": "stdout",
          "text": [
            "Train: (1717, 60, 1), Val: (367, 60, 1), Test: (369, 60, 1)\n"
          ]
        }
      ],
      "source": [
        "total = len(X)\n",
        "train_end = int(total*0.7)\n",
        "val_end = train_end + int(total*0.15)\n",
        "X_train, y_train = X[:train_end], y[:train_end]\n",
        "X_val, y_val = X[train_end:val_end], y[train_end:val_end]\n",
        "X_test, y_test = X[val_end:], y[val_end:]\n",
        "print(f\"Train: {X_train.shape}, Val: {X_val.shape}, Test: {X_test.shape}\")"
      ]
    },
    {
      "cell_type": "markdown",
      "id": "53109faa",
      "metadata": {
        "id": "53109faa"
      },
      "source": [
        "## 5. Pembangunan dan Evaluasi Model GRU (Tuning)  "
      ]
    },
    {
      "cell_type": "markdown",
      "source": [
        "### 5.1 Hyperparameter Tuning GRU dengan Hyperopt\n",
        "**Fungsi Kode**:  \n",
        "Fungsi ini digunakan untuk pencarian kombinasi hyperparameter terbaik dengan model GRU menggunakan `Hyperopt`.\n",
        "\n",
        "**Langkah-langkah**:\n",
        "1. **Penetapan Seed (Reproducibility)**:\n",
        "   - Seed untuk `random`, `numpy`, dan `tensorflow` diset untuk memastikan hasil eksperimen konsisten dan dapat direproduksi.\n",
        "\n",
        "\n",
        "2. **Arsitektur Model**:\n",
        "   - Model didefinisikan sebagai `Sequential` dengan tiga lapisan utama:\n",
        "     - `Input`: Berbentuk `(WINDOW, 1)` sesuai format time series.\n",
        "     - `GRU`: Layer utama yang mempelajari dependensi temporal, jumlah unit disesuaikan dari parameter.\n",
        "     - `Dropout`: Regularisasi untuk mencegah overfitting.\n",
        "     - `Dense`: Output layer dengan satu neuron untuk regresi harga.\n",
        "\n",
        "3. **Kompilasi Model**:\n",
        "   - Optimizer yang digunakan adalah **Adam**, dengan `learning_rate` yang diatur lewat parameter.\n",
        "   - Fungsi loss yang digunakan adalah **mean squared error (MSE)**, cocok untuk regresi.\n",
        "\n",
        "4. **Pelatihan Model**:\n",
        "   - Model dilatih menggunakan `fit()` dengan:\n",
        "     - `X_train`, `y_train` sebagai data latih.\n",
        "     - `X_val`, `y_val` sebagai data validasi.\n",
        "     - `EarlyStopping` memantau `val_loss` dan menghentikan pelatihan jika tidak membaik selama 5 epoch.\n",
        "     - Semua parameter pelatihan (epoch, batch size) diambil dari dictionary `params`.\n",
        "\n",
        "5. **Evaluasi**:\n",
        "   - Nilai minimum dari `val_loss` diambil sebagai metrik evaluasi dan dikembalikan sebagai output fungsi.\n",
        "\n",
        "**Fungsi**\n",
        "- Fungsi `build_evaluate()` membuat dan melatih model GRU berdasarkan parameter input, lalu mengembalikan **val_loss** terbaik.\n",
        "- `space` mendefinisikan ruang pencarian hyperparameter: units, dropout, learning rate, batch size, dan epochs.\n",
        "- `fmin()` menjalankan pencarian sebanyak 20 iterasi dengan algoritma Tree-structured Parzen Estimator (TPE).\n",
        "- Hasil terbaik dikonversi dan disimpan dalam `best_params`.\n",
        "\n",
        "**Output**:\n",
        "- Parameter GRU terbaik untuk performa validasi optimal.\n",
        "\n",
        "**Keuntungan**:\n",
        "- Fungsi ini modular dan fleksibel, sehingga cocok digunakan dalam *grid search* atau *random search* untuk mencari konfigurasi terbaik.\n",
        "- Menyediakan regularisasi dan early stopping untuk mencegah overfitting.\n",
        "\n",
        "**Insight**:\n",
        "- Model GRU lebih ringan dibandingkan LSTM namun tetap efektif untuk menangani dependensi temporal.\n",
        "- Pemilihan `val_loss` sebagai metrik tuning penting agar model tidak hanya bagus di training tetapi juga di generalisasi.\n",
        "\n"
      ],
      "metadata": {
        "id": "WQ_7j5_ztf1i"
      },
      "id": "WQ_7j5_ztf1i"
    },
    {
      "cell_type": "code",
      "execution_count": 11,
      "id": "c0af3ce0",
      "metadata": {
        "id": "c0af3ce0"
      },
      "outputs": [],
      "source": [
        "def build_evaluate(params):\n",
        "    random.seed(42)\n",
        "    np.random.seed(42)\n",
        "    tf.random.set_seed(42)\n",
        "    model = Sequential()\n",
        "    model.add(Input(shape=(WINDOW,1)))\n",
        "    # 1 Layer GRU dengan units parameter\n",
        "    model.add(GRU(int(params['units']), return_sequences=False))\n",
        "    model.add(Dropout(params['dropout']))\n",
        "    model.add(Dense(1))\n",
        "    model.compile(\n",
        "        optimizer=Adam(learning_rate=params['lr']),\n",
        "        loss='mse'\n",
        "    )\n",
        "    es = EarlyStopping(monitor='val_loss', patience=5, restore_best_weights=True)\n",
        "    history = model.fit(\n",
        "        X_train, y_train,\n",
        "        validation_data=(X_val, y_val),\n",
        "        epochs=int(params['epochs']),\n",
        "        batch_size=int(params['batch_size']),\n",
        "        callbacks=[es],\n",
        "        verbose=0\n",
        "    )\n",
        "    val_loss = min(history.history['val_loss'])\n",
        "    return val_loss"
      ]
    },
    {
      "cell_type": "code",
      "execution_count": 12,
      "id": "5eQG4-fwPSP9",
      "metadata": {
        "id": "5eQG4-fwPSP9"
      },
      "outputs": [],
      "source": [
        "space = {\n",
        "    'units':      hp.quniform('units',     32, 96, 16), # units 32–96, step 16\n",
        "    'dropout':    hp.uniform('dropout',    0.23, 0.43),\n",
        "    'lr':         hp.loguniform('lr',\n",
        "                                np.log(1e-4),  # ~0.0001\n",
        "                                np.log(1e-2)), # ~0.01\n",
        "    'batch_size': hp.choice('batch_size', [ 16, 32, 48]),\n",
        "    'epochs':     hp.choice('epochs',     [50, 100, 150]),\n",
        "}\n"
      ]
    },
    {
      "cell_type": "code",
      "execution_count": 13,
      "id": "dee8ddce",
      "metadata": {
        "colab": {
          "base_uri": "https://localhost:8080/"
        },
        "id": "dee8ddce",
        "outputId": "9a555ec9-51ee-407b-fc5e-8c1e57535bec"
      },
      "outputs": [
        {
          "output_type": "stream",
          "name": "stdout",
          "text": [
            "100%|██████████| 20/20 [19:39<00:00, 58.98s/trial, best loss: 0.00011424332478782162]\n",
            "Best params: {'batch_size': np.int64(0), 'dropout': np.float64(0.4025344556568261), 'epochs': np.int64(1), 'lr': np.float64(0.005808838733705406), 'units': np.float64(80.0)}\n"
          ]
        }
      ],
      "source": [
        "trials = Trials()\n",
        "best = fmin(\n",
        "    fn=lambda p: build_evaluate(p),\n",
        "    space=space,\n",
        "    algo=tpe.suggest,\n",
        "    max_evals=20,\n",
        "    trials=trials\n",
        ")\n",
        "print(\"Best params:\", best)"
      ]
    },
    {
      "cell_type": "code",
      "execution_count": 14,
      "id": "500cea0d",
      "metadata": {
        "colab": {
          "base_uri": "https://localhost:8080/"
        },
        "id": "500cea0d",
        "outputId": "50b3af94-2fc5-4fd7-8c78-e41964726aa3"
      },
      "outputs": [
        {
          "output_type": "stream",
          "name": "stdout",
          "text": [
            "Converted best params: {'units': 80, 'dropout': np.float64(0.4025344556568261), 'lr': np.float64(0.005808838733705406), 'batch_size': 16, 'epochs': 100}\n"
          ]
        }
      ],
      "source": [
        "# Konversi params terbaik\n",
        "best_params = {\n",
        "    'units': int(best['units']),\n",
        "    'dropout': best['dropout'],\n",
        "    'lr': best['lr'],\n",
        "    'batch_size': [16, 32, 48][best['batch_size']],\n",
        "    'epochs': [50, 100, 150][best['epochs']]\n",
        "}\n",
        "print(\"Converted best params:\", best_params)"
      ]
    },
    {
      "cell_type": "markdown",
      "source": [
        "### 5.2 Pelatihan Model GRU dengan Parameter Terbaik  \n",
        "**Fungsi Kode**:  \n",
        "Kode ini digunakan untuk **melatih model GRU akhir** menggunakan kombinasi hyperparameter terbaik (`best_params`) yang telah diperoleh dari proses tuning sebelumnya. Model ini dilatih menggunakan data yang telah dibagi dan distandarkan sebelumnya.\n",
        "\n",
        "**Langkah-langkah**:\n",
        "1. **Penetapan Seed TensorFlow**:\n",
        "   - Seed disetel agar hasil pelatihan model dapat direproduksi dan stabil.\n",
        "\n",
        "2. **Pembangunan Model GRU**:\n",
        "   - `Sequential` model dibentuk dengan tiga layer utama:\n",
        "     - `Input`: menerima input time series berbentuk `(WINDOW, 1)`.\n",
        "     - `GRU`: layer utama untuk menangkap pola temporal, jumlah unit sesuai `best_params['units']`.\n",
        "     - `Dropout`: mencegah overfitting sesuai dengan `best_params['dropout']`.\n",
        "     - `Dense`: layer output untuk regresi (1 output).\n",
        "\n",
        "3. **Kompilasi Model**:\n",
        "   - Optimizer: `Adam` dengan `learning_rate` dari `best_params`.\n",
        "   - Loss function: `Mean Squared Error (MSE)` karena targetnya adalah nilai numerik (regresi).\n",
        "\n",
        "4. **Pelatihan Model**:\n",
        "   - Model dilatih dengan:\n",
        "     - `X_train` dan `y_train` sebagai data latih.\n",
        "     - `X_val` dan `y_val` untuk memantau performa validasi.\n",
        "     - **EarlyStopping** diterapkan untuk menghentikan pelatihan jika `val_loss` tidak membaik selama 10 epoch.\n",
        "     - Pelatihan menggunakan `shuffle=False` karena ini data time series (urutan harus dijaga).\n",
        "     - Parameter `epochs` dan `batch_size` berasal dari `best_params`.\n",
        "\n",
        "**Keuntungan**:\n",
        "- Kombinasi hyperparameter optimal meningkatkan akurasi dan generalisasi model.\n",
        "- EarlyStopping mencegah overfitting dengan menghentikan pelatihan saat validasi tidak membaik.\n",
        "- Menggunakan `shuffle=False` sangat penting untuk menjaga urutan time series yang merefleksikan kronologi nyata.\n",
        "\n",
        "**Insight**:\n",
        "- Model yang dilatih dengan parameter optimal dan validasi yang baik akan lebih andal dalam memprediksi tren harga emas.\n",
        "- Kehadiran Dropout dan EarlyStopping menunjukkan perhatian terhadap overfitting yang umum terjadi dalam deep learning.\n"
      ],
      "metadata": {
        "id": "xdYT5gDeuMNO"
      },
      "id": "xdYT5gDeuMNO"
    },
    {
      "cell_type": "code",
      "execution_count": 15,
      "id": "b8782815",
      "metadata": {
        "colab": {
          "base_uri": "https://localhost:8080/"
        },
        "id": "b8782815",
        "outputId": "20e8a6fd-f67b-4adf-c642-e3ae3486f6d3"
      },
      "outputs": [
        {
          "output_type": "stream",
          "name": "stdout",
          "text": [
            "Epoch 1/100\n",
            "108/108 - 13s - 120ms/step - loss: 0.0019 - val_loss: 0.0015\n",
            "Epoch 2/100\n",
            "108/108 - 13s - 123ms/step - loss: 0.0032 - val_loss: 0.0023\n",
            "Epoch 3/100\n",
            "108/108 - 6s - 52ms/step - loss: 0.0044 - val_loss: 0.0026\n",
            "Epoch 4/100\n",
            "108/108 - 4s - 39ms/step - loss: 0.0047 - val_loss: 0.0054\n",
            "Epoch 5/100\n",
            "108/108 - 5s - 47ms/step - loss: 0.0055 - val_loss: 0.0018\n",
            "Epoch 6/100\n",
            "108/108 - 5s - 47ms/step - loss: 0.0054 - val_loss: 0.0027\n",
            "Epoch 7/100\n",
            "108/108 - 5s - 47ms/step - loss: 0.0052 - val_loss: 0.0021\n",
            "Epoch 8/100\n",
            "108/108 - 6s - 53ms/step - loss: 0.0047 - val_loss: 0.0032\n",
            "Epoch 9/100\n",
            "108/108 - 4s - 40ms/step - loss: 0.0038 - val_loss: 0.0017\n",
            "Epoch 10/100\n",
            "108/108 - 6s - 52ms/step - loss: 0.0037 - val_loss: 0.0015\n",
            "Epoch 11/100\n",
            "108/108 - 3s - 31ms/step - loss: 0.0032 - val_loss: 0.0019\n",
            "Epoch 12/100\n",
            "108/108 - 5s - 43ms/step - loss: 0.0026 - val_loss: 5.3727e-04\n",
            "Epoch 13/100\n",
            "108/108 - 3s - 27ms/step - loss: 0.0017 - val_loss: 4.6397e-04\n",
            "Epoch 14/100\n",
            "108/108 - 5s - 47ms/step - loss: 0.0012 - val_loss: 1.5197e-04\n",
            "Epoch 15/100\n",
            "108/108 - 5s - 46ms/step - loss: 5.6634e-04 - val_loss: 4.0190e-04\n",
            "Epoch 16/100\n",
            "108/108 - 3s - 30ms/step - loss: 4.5129e-04 - val_loss: 2.1557e-04\n",
            "Epoch 17/100\n",
            "108/108 - 5s - 44ms/step - loss: 3.6075e-04 - val_loss: 1.5459e-04\n",
            "Epoch 18/100\n",
            "108/108 - 6s - 52ms/step - loss: 4.7897e-04 - val_loss: 7.2735e-04\n",
            "Epoch 19/100\n",
            "108/108 - 5s - 44ms/step - loss: 4.9423e-04 - val_loss: 6.2277e-04\n",
            "Epoch 20/100\n",
            "108/108 - 5s - 45ms/step - loss: 5.6449e-04 - val_loss: 5.9280e-04\n",
            "Epoch 21/100\n",
            "108/108 - 6s - 56ms/step - loss: 6.6088e-04 - val_loss: 7.3397e-04\n",
            "Epoch 22/100\n",
            "108/108 - 3s - 27ms/step - loss: 8.0930e-04 - val_loss: 0.0014\n",
            "Epoch 23/100\n",
            "108/108 - 3s - 27ms/step - loss: 0.0010 - val_loss: 0.0010\n",
            "Epoch 24/100\n",
            "108/108 - 6s - 54ms/step - loss: 0.0011 - val_loss: 0.0011\n"
          ]
        }
      ],
      "source": [
        "tf.random.set_seed(42)\n",
        "model_gru = Sequential([\n",
        "    Input(shape=(WINDOW,1)),\n",
        "    GRU(best_params['units']),\n",
        "    Dropout(best_params['dropout']),\n",
        "    Dense(1)\n",
        "])\n",
        "model_gru.compile(\n",
        "    optimizer=Adam(learning_rate=best_params['lr']),\n",
        "    loss='mse'\n",
        ")\n",
        "es = EarlyStopping(monitor='val_loss', patience=10, restore_best_weights=True)\n",
        "history = model_gru.fit(\n",
        "    X_train, y_train,\n",
        "    validation_data=(X_val, y_val),\n",
        "    epochs=best_params['epochs'],\n",
        "    batch_size=best_params['batch_size'],\n",
        "    callbacks=[es],\n",
        "    shuffle=False,\n",
        "    verbose=2\n",
        ")"
      ]
    },
    {
      "cell_type": "code",
      "execution_count": 16,
      "id": "f118e2ab",
      "metadata": {
        "colab": {
          "base_uri": "https://localhost:8080/",
          "height": 479
        },
        "id": "f118e2ab",
        "outputId": "d499e7c3-ff86-49e8-c409-24e622b1243c"
      },
      "outputs": [
        {
          "output_type": "display_data",
          "data": {
            "text/plain": [
              "<Figure size 800x400 with 1 Axes>"
            ],
            "image/png": "[encoded data removed]"
          },
          "metadata": {}
        },
        {
          "output_type": "execute_result",
          "data": {
            "text/plain": [
              "(Text(0.5, 24.0, 'Epoch'),\n",
              " Text(24.0, 0.5, 'MSE'),\n",
              " <matplotlib.legend.Legend at 0x7fc23afa6b10>,\n",
              " None)"
            ]
          },
          "metadata": {},
          "execution_count": 16
        }
      ],
      "source": [
        "# Plot training vs validation loss\n",
        "plt.figure(figsize=(8,4))\n",
        "plt.plot(history.history['loss'], label='train_loss')\n",
        "plt.plot(history.history['val_loss'], label='val_loss')\n",
        "plt.title('Training vs Validation Loss')\n",
        "plt.xlabel('Epoch'), plt.ylabel('MSE'), plt.legend(), plt.show()"
      ]
    },
    {
      "cell_type": "markdown",
      "source": [
        "\n",
        "\n",
        "###  **Insight:**\n",
        "\n",
        "1. **Overfitting Tidak Terjadi Secara Signifikan**  \n",
        "   - Kurva `val_loss` dan `train_loss` menunjukkan pola yang cukup selaras, terutama setelah epoch ke-10 hingga akhir. Ini mengindikasikan bahwa model tidak mengalami overfitting serius.\n",
        "   - Setelah awal yang fluktuatif, `val_loss` menjadi lebih stabil dan rendah.\n",
        "\n",
        "2. **Performa Model Membaik Seiring Waktu**  \n",
        "   - Kedua loss turun secara umum seiring bertambahnya epoch. Ini menunjukkan bahwa model belajar dengan baik dari data.\n",
        "\n",
        "3. **Awal Training Tidak Stabil**  \n",
        "   - Terlihat bahwa pada awal (sekitar epoch ke-4), `val_loss` sempat melonjak tajam sebelum akhirnya menurun. Ini umum terjadi dan bisa disebabkan oleh pembelajaran awal model yang belum optimal.\n"
      ],
      "metadata": {
        "id": "nmwc2v_kx7Ke"
      },
      "id": "nmwc2v_kx7Ke"
    },
    {
      "cell_type": "markdown",
      "source": [
        "## 6. Evaluasi Model GRU pada Data Testing  \n",
        "**Fungsi Kode**:  \n",
        "Kode ini digunakan untuk mengevaluasi performa model GRU pada **data testing**, dengan mengukur berbagai metrik regresi setelah hasil prediksi dikembalikan ke skala aslinya (inverse transform).\n",
        "\n",
        "**Langkah-langkah**:\n",
        "1. **Prediksi pada Data Testing**:\n",
        "   - Model GRU melakukan prediksi terhadap `X_test`.\n",
        "   - Hasil prediksi (`y_pred_s`) diratakan dengan `.flatten()` agar satu dimensi.\n",
        "\n",
        "2. **Inverse Transform ke Skala Asli**:\n",
        "   - Karena data sebelumnya telah dinormalisasi dengan `MinMaxScaler`, maka nilai asli perlu dikembalikan dengan `inverse_transform()`:\n",
        "     - `y_test_true`: nilai aktual yang telah dikembalikan ke skala asli.\n",
        "     - `y_pred_true`: hasil prediksi model dalam skala asli.\n",
        "\n",
        "3. **Menghitung Metrik Evaluasi**:\n",
        "   - **RMSE (Root Mean Squared Error)**: rata-rata akar kuadrat dari error prediksi.\n",
        "   - **MAE (Mean Absolute Error)**: rata-rata absolut selisih antara prediksi dan nilai aktual.\n",
        "   - **MAPE (Mean Absolute Percentage Error)**: rata-rata persentase kesalahan terhadap nilai aktual.\n",
        "   - **R² (R-squared Score)**: proporsi variansi yang dijelaskan oleh model (nilai mendekati 1 lebih baik).\n",
        "\n",
        "**Keuntungan**:\n",
        "- Evaluasi menggunakan banyak metrik memberikan pemahaman menyeluruh terhadap performa model.\n",
        "- Transformasi balik ke skala asli memudahkan interpretasi hasil oleh pengguna non-teknis.\n",
        "\n",
        "**Insight**:\n",
        "- Nilai RMSE dan MAE yang kecil menunjukkan prediksi model akurat.\n",
        "- MAPE di bawah 10% umumnya dianggap sangat baik untuk model prediktif.\n",
        "- Nilai R² mendekati 1 menunjukkan model mampu menjelaskan variansi data dengan baik.\n"
      ],
      "metadata": {
        "id": "9x6QaYUTuryf"
      },
      "id": "9x6QaYUTuryf"
    },
    {
      "cell_type": "code",
      "execution_count": 17,
      "id": "8797c60e",
      "metadata": {
        "colab": {
          "base_uri": "https://localhost:8080/"
        },
        "id": "8797c60e",
        "outputId": "a67598cd-5874-4d95-bc7f-144b15571136"
      },
      "outputs": [
        {
          "output_type": "stream",
          "name": "stdout",
          "text": [
            "\u001b[1m12/12\u001b[0m \u001b[32m━━━━━━━━━━━━━━━━━━━━\u001b[0m\u001b[37m\u001b[0m \u001b[1m0s\u001b[0m 24ms/step\n",
            "Test RMSE: 31.07, MAE: 24.33, MAPE: 1.03%, R2: 0.9874\n"
          ]
        }
      ],
      "source": [
        "y_pred_s = model_gru.predict(X_test).flatten()\n",
        "y_test_true = df_scaler.inverse_transform(y_test.reshape(-1,1)).flatten()\n",
        "y_pred_true = df_scaler.inverse_transform(y_pred_s.reshape(-1,1)).flatten()\n",
        "rmse = np.sqrt(mean_squared_error(y_test_true, y_pred_true))\n",
        "mae  = mean_absolute_error(y_test_true, y_pred_true)\n",
        "mape = np.mean(np.abs((y_test_true-y_pred_true)/y_test_true))*100\n",
        "r2   = r2_score(y_test_true, y_pred_true)\n",
        "print(f\"Test RMSE: {rmse:.2f}, MAE: {mae:.2f}, MAPE: {mape:.2f}%, R2: {r2:.4f}\")"
      ]
    },
    {
      "cell_type": "code",
      "execution_count": 18,
      "id": "35547c59",
      "metadata": {
        "colab": {
          "base_uri": "https://localhost:8080/",
          "height": 556
        },
        "id": "35547c59",
        "outputId": "9bfb5e06-8b68-4216-eec8-763002af9fa5"
      },
      "outputs": [
        {
          "output_type": "display_data",
          "data": {
            "text/plain": [
              "<Figure size 1200x500 with 1 Axes>"
            ],
            "image/png": "[encoded data removed]"
          },
          "metadata": {}
        },
        {
          "output_type": "execute_result",
          "data": {
            "text/plain": [
              "(Text(0.5, 24.0, 'Samples'),\n",
              " Text(24.0, 0.5, 'Harga'),\n",
              " <matplotlib.legend.Legend at 0x7fc23afd7510>,\n",
              " None)"
            ]
          },
          "metadata": {},
          "execution_count": 18
        }
      ],
      "source": [
        "# Plot actual vs predicted\n",
        "plt.figure(figsize=(12,5))\n",
        "plt.plot(y_test_true, label='Actual')\n",
        "plt.plot(y_pred_true, label='Predicted')\n",
        "plt.title(' Aktual vs Prediksi Harga Penutupan Emas')\n",
        "plt.xlabel('Samples'), plt.ylabel('Harga'), plt.legend(), plt.show()"
      ]
    },
    {
      "cell_type": "markdown",
      "source": [
        "\n",
        "### **Insight:**\n",
        "\n",
        "- **Prediksi Model Cukup Akurat**  \n",
        "   Garis prediksi (`Predicted`) sangat mendekati garis aktual (`Actual`) hampir di seluruh rentang data, yang menunjukkan bahwa model memiliki kemampuan prediksi yang baik.\n",
        "\n",
        "- **Pola Tren Terjaga**  \n",
        "   Model mampu mengikuti tren naik dan turun harga emas dengan cukup baik, termasuk lonjakan dan penurunan tajam. Ini menunjukkan bahwa model berhasil menangkap pola temporal yang penting dari data.\n",
        "\n",
        "- **Sedikit Lag atau Deviasi**  \n",
        "   Terdapat beberapa momen di mana prediksi tertinggal atau tidak setepat data aktual (misalnya pada puncak harga sekitar sample ke-320 dan setelahnya). Namun, perbedaannya relatif kecil.\n"
      ],
      "metadata": {
        "id": "5ErdeUtYwyXA"
      },
      "id": "5ErdeUtYwyXA"
    },
    {
      "cell_type": "markdown",
      "source": [
        "\n",
        "\n",
        "## 7. Menyimpan Model dan Scaler  \n",
        "**Fungsi Kode**:  \n",
        "Menyimpan model GRU terlatih dan scaler `MinMaxScaler` agar bisa digunakan kembali tanpa melatih ulang.\n",
        "\n",
        "**Langkah-langkah**:\n",
        "- `model_gru.save()`: menyimpan model ke file `best_model_gru.h5`.\n",
        "- `pickle.dump()`: menyimpan scaler ke file `scaler_close.pkl`.\n",
        "\n",
        "**Output**:\n",
        "- File `.h5` dan `.pkl` siap dipakai untuk prediksi di masa depan.\n"
      ],
      "metadata": {
        "id": "wUlF_Ub8xTXn"
      },
      "id": "wUlF_Ub8xTXn"
    },
    {
      "cell_type": "code",
      "execution_count": 19,
      "id": "ad79a32a",
      "metadata": {
        "colab": {
          "base_uri": "https://localhost:8080/"
        },
        "id": "ad79a32a",
        "outputId": "6d7e6319-1518-44dd-dc59-8dc48c883916"
      },
      "outputs": [
        {
          "output_type": "stream",
          "name": "stderr",
          "text": [
            "WARNING:absl:You are saving your model as an HDF5 file via `model.save()` or `keras.saving.save_model(model)`. This file format is considered legacy. We recommend using instead the native Keras format, e.g. `model.save('my_model.keras')` or `keras.saving.save_model(model, 'my_model.keras')`. \n"
          ]
        },
        {
          "output_type": "stream",
          "name": "stdout",
          "text": [
            "Best GRU model dan scaler disimpan sebagai best_model_gru.h5 & scaler_close.pkl\n"
          ]
        }
      ],
      "source": [
        "model_gru.save('best_model_gru.h5')\n",
        "import pickle\n",
        "pickle.dump(df_scaler, open('scaler_close.pkl','wb'))\n",
        "print('Best GRU model dan scaler disimpan sebagai best_model_gru.h5 & scaler_close.pkl')"
      ]
    },
    {
      "cell_type": "markdown",
      "id": "dkMnK-LAhZew",
      "metadata": {
        "id": "dkMnK-LAhZew"
      },
      "source": [
        "## 8. Interface"
      ]
    },
    {
      "cell_type": "markdown",
      "source": [
        "### 8.1. Prediksi Harga Emas 30 Hari Mendatang\n",
        "**Fungsi Kode**:  \n",
        "Kode ini digunakan untuk **melakukan prediksi harga emas selama 30 hari ke depan** berdasarkan harga 100 hari terakhir menggunakan model GRU yang telah dilatih sebelumnya.\n",
        "\n",
        "**Langkah-langkah**:\n",
        "- Memuat model dan scaler.\n",
        "- Ambil data `Close` 100 hari terakhir, normalisasi, lalu prediksi 1 hari ke depan sebanyak 30 kali (multistep).\n",
        "- Setiap hasil prediksi ditambahkan ke input untuk prediksi berikutnya.\n",
        "\n",
        "**Output**:\n",
        "- Grafik prediski penutupan harga emas 30 hari mendatang\n",
        "\n"
      ],
      "metadata": {
        "id": "NTEjstE9vnJT"
      },
      "id": "NTEjstE9vnJT"
    },
    {
      "cell_type": "code",
      "execution_count": 27,
      "id": "x-6bzbOGgT5E",
      "metadata": {
        "colab": {
          "base_uri": "https://localhost:8080/"
        },
        "id": "x-6bzbOGgT5E",
        "outputId": "1f6b7c67-a484-43aa-85ec-7a80d60d4d32"
      },
      "outputs": [
        {
          "output_type": "stream",
          "name": "stderr",
          "text": [
            "WARNING:absl:Compiled the loaded model, but the compiled metrics have yet to be built. `model.compile_metrics` will be empty until you train or evaluate the model.\n"
          ]
        }
      ],
      "source": [
        "## Melakukan  Interface\n",
        "import matplotlib.pyplot as plt\n",
        "import yfinance as yf\n",
        "import pandas as pd\n",
        "import numpy as np\n",
        "from sklearn.preprocessing import MinMaxScaler\n",
        "import tensorflow as tf\n",
        "from tensorflow.keras.models import load_model\n",
        "import pickle\n",
        "from tensorflow.keras.losses import MeanSquaredError\n",
        "\n",
        "# Memuat model terlatih dan scaler\n",
        "model = load_model('best_model_gru.h5', custom_objects={'mse': MeanSquaredError()})\n",
        "scaler = pickle.load(open('scaler_close.pkl', 'rb'))\n",
        "\n",
        "def predict_gold_price_30days():\n",
        "    data = yf.download('GC=F', period='100d')  # Mengabil data 100 hari terakhir\n",
        "    new_df = data[['Close']].copy()\n",
        "    new_df['Close_s'] = scaler.transform(new_df[['Close']])\n",
        "    series = new_df['Close_s'].values\n",
        "    WINDOW = 60\n",
        "    predictions = []\n",
        "\n",
        "    if len(series) < WINDOW:\n",
        "        print(\"Not enough data points. Please extend the data range.\")\n",
        "        return None\n",
        "\n",
        "    # Prediksi untuk 30 hari ke depan\n",
        "    for i in range(30):\n",
        "        X_new = series[-WINDOW:].reshape(1, WINDOW, 1)\n",
        "        y_pred_s = model.predict(X_new).flatten()\n",
        "        y_pred_true = scaler.inverse_transform(y_pred_s.reshape(-1, 1)).flatten()\n",
        "        predictions.append(y_pred_true[0])\n",
        "\n",
        "        # Perbarui seri dengan nilai prediksi untuk iterasi berikutnya\n",
        "        series = np.append(series, y_pred_s)\n",
        "\n",
        "    return predictions\n"
      ]
    },
    {
      "cell_type": "code",
      "source": [
        "predicted_prices_30days = predict_gold_price_30days()\n",
        "\n",
        "if predicted_prices_30days:\n",
        "    data = yf.download('GC=F', period='100d')\n",
        "    actual_prices = data['Close']\n",
        "\n",
        "    plt.figure(figsize=(12, 6))\n",
        "    plt.plot(actual_prices.index, actual_prices.values, label='Harga Emas Aktual', color='blue')\n",
        "\n",
        "    # Hasilkan tanggal prediksi\n",
        "    last_date = actual_prices.index[-1]\n",
        "    prediction_dates = pd.date_range(start=last_date + pd.Timedelta(days=1), periods=30)\n",
        "\n",
        "    plt.plot(prediction_dates, predicted_prices_30days, label='Prediksi Harga Emas 30 Hari Mendatang', color='orange')\n",
        "    plt.xlabel('Tanggal')\n",
        "    plt.ylabel('Harga Emas')\n",
        "    plt.title('Prediksi Harga Emas 30 Hari Mendatang')\n",
        "    plt.legend()\n",
        "    plt.grid(True)\n",
        "    plt.xticks()\n",
        "    plt.tight_layout()\n",
        "    plt.show()"
      ],
      "metadata": {
        "colab": {
          "base_uri": "https://localhost:8080/",
          "height": 1000
        },
        "id": "3j3Rm_zOeuuy",
        "outputId": "cd18c7f4-1ae6-496b-c6c6-50a27f41554a"
      },
      "id": "3j3Rm_zOeuuy",
      "execution_count": 66,
      "outputs": [
        {
          "output_type": "stream",
          "name": "stderr",
          "text": [
            "\r[*********************100%***********************]  1 of 1 completed"
          ]
        },
        {
          "output_type": "stream",
          "name": "stdout",
          "text": [
            "\u001b[1m1/1\u001b[0m \u001b[32m━━━━━━━━━━━━━━━━━━━━\u001b[0m\u001b[37m\u001b[0m \u001b[1m0s\u001b[0m 48ms/step\n",
            "\u001b[1m1/1\u001b[0m \u001b[32m━━━━━━━━━━━━━━━━━━━━\u001b[0m\u001b[37m\u001b[0m \u001b[1m0s\u001b[0m 32ms/step"
          ]
        },
        {
          "output_type": "stream",
          "name": "stderr",
          "text": [
            "\n"
          ]
        },
        {
          "output_type": "stream",
          "name": "stdout",
          "text": [
            "\u001b[1m1/1\u001b[0m \u001b[32m━━━━━━━━━━━━━━━━━━━━\u001b[0m\u001b[37m\u001b[0m \u001b[1m0s\u001b[0m 56ms/step\n",
            "\u001b[1m1/1\u001b[0m \u001b[32m━━━━━━━━━━━━━━━━━━━━\u001b[0m\u001b[37m\u001b[0m \u001b[1m0s\u001b[0m 42ms/step\n",
            "\u001b[1m1/1\u001b[0m \u001b[32m━━━━━━━━━━━━━━━━━━━━\u001b[0m\u001b[37m\u001b[0m \u001b[1m0s\u001b[0m 41ms/step\n",
            "\u001b[1m1/1\u001b[0m \u001b[32m━━━━━━━━━━━━━━━━━━━━\u001b[0m\u001b[37m\u001b[0m \u001b[1m0s\u001b[0m 42ms/step\n",
            "\u001b[1m1/1\u001b[0m \u001b[32m━━━━━━━━━━━━━━━━━━━━\u001b[0m\u001b[37m\u001b[0m \u001b[1m0s\u001b[0m 41ms/step\n",
            "\u001b[1m1/1\u001b[0m \u001b[32m━━━━━━━━━━━━━━━━━━━━\u001b[0m\u001b[37m\u001b[0m \u001b[1m0s\u001b[0m 40ms/step\n",
            "\u001b[1m1/1\u001b[0m \u001b[32m━━━━━━━━━━━━━━━━━━━━\u001b[0m\u001b[37m\u001b[0m \u001b[1m0s\u001b[0m 54ms/step\n",
            "\u001b[1m1/1\u001b[0m \u001b[32m━━━━━━━━━━━━━━━━━━━━\u001b[0m\u001b[37m\u001b[0m \u001b[1m0s\u001b[0m 41ms/step\n",
            "\u001b[1m1/1\u001b[0m \u001b[32m━━━━━━━━━━━━━━━━━━━━\u001b[0m\u001b[37m\u001b[0m \u001b[1m0s\u001b[0m 41ms/step\n",
            "\u001b[1m1/1\u001b[0m \u001b[32m━━━━━━━━━━━━━━━━━━━━\u001b[0m\u001b[37m\u001b[0m \u001b[1m0s\u001b[0m 42ms/step\n",
            "\u001b[1m1/1\u001b[0m \u001b[32m━━━━━━━━━━━━━━━━━━━━\u001b[0m\u001b[37m\u001b[0m \u001b[1m0s\u001b[0m 40ms/step\n",
            "\u001b[1m1/1\u001b[0m \u001b[32m━━━━━━━━━━━━━━━━━━━━\u001b[0m\u001b[37m\u001b[0m \u001b[1m0s\u001b[0m 39ms/step\n",
            "\u001b[1m1/1\u001b[0m \u001b[32m━━━━━━━━━━━━━━━━━━━━\u001b[0m\u001b[37m\u001b[0m \u001b[1m0s\u001b[0m 47ms/step\n",
            "\u001b[1m1/1\u001b[0m \u001b[32m━━━━━━━━━━━━━━━━━━━━\u001b[0m\u001b[37m\u001b[0m \u001b[1m0s\u001b[0m 41ms/step\n",
            "\u001b[1m1/1\u001b[0m \u001b[32m━━━━━━━━━━━━━━━━━━━━\u001b[0m\u001b[37m\u001b[0m \u001b[1m0s\u001b[0m 42ms/step\n",
            "\u001b[1m1/1\u001b[0m \u001b[32m━━━━━━━━━━━━━━━━━━━━\u001b[0m\u001b[37m\u001b[0m \u001b[1m0s\u001b[0m 42ms/step\n",
            "\u001b[1m1/1\u001b[0m \u001b[32m━━━━━━━━━━━━━━━━━━━━\u001b[0m\u001b[37m\u001b[0m \u001b[1m0s\u001b[0m 41ms/step\n",
            "\u001b[1m1/1\u001b[0m \u001b[32m━━━━━━━━━━━━━━━━━━━━\u001b[0m\u001b[37m\u001b[0m \u001b[1m0s\u001b[0m 52ms/step\n",
            "\u001b[1m1/1\u001b[0m \u001b[32m━━━━━━━━━━━━━━━━━━━━\u001b[0m\u001b[37m\u001b[0m \u001b[1m0s\u001b[0m 42ms/step\n",
            "\u001b[1m1/1\u001b[0m \u001b[32m━━━━━━━━━━━━━━━━━━━━\u001b[0m\u001b[37m\u001b[0m \u001b[1m0s\u001b[0m 41ms/step\n",
            "\u001b[1m1/1\u001b[0m \u001b[32m━━━━━━━━━━━━━━━━━━━━\u001b[0m\u001b[37m\u001b[0m \u001b[1m0s\u001b[0m 40ms/step\n",
            "\u001b[1m1/1\u001b[0m \u001b[32m━━━━━━━━━━━━━━━━━━━━\u001b[0m\u001b[37m\u001b[0m \u001b[1m0s\u001b[0m 39ms/step\n",
            "\u001b[1m1/1\u001b[0m \u001b[32m━━━━━━━━━━━━━━━━━━━━\u001b[0m\u001b[37m\u001b[0m \u001b[1m0s\u001b[0m 42ms/step\n",
            "\u001b[1m1/1\u001b[0m \u001b[32m━━━━━━━━━━━━━━━━━━━━\u001b[0m\u001b[37m\u001b[0m \u001b[1m0s\u001b[0m 40ms/step\n",
            "\u001b[1m1/1\u001b[0m \u001b[32m━━━━━━━━━━━━━━━━━━━━\u001b[0m\u001b[37m\u001b[0m \u001b[1m0s\u001b[0m 47ms/step\n",
            "\u001b[1m1/1\u001b[0m \u001b[32m━━━━━━━━━━━━━━━━━━━━\u001b[0m\u001b[37m\u001b[0m \u001b[1m0s\u001b[0m 43ms/step\n",
            "\u001b[1m1/1\u001b[0m \u001b[32m━━━━━━━━━━━━━━━━━━━━\u001b[0m\u001b[37m\u001b[0m \u001b[1m0s\u001b[0m 42ms/step\n",
            "\u001b[1m1/1\u001b[0m \u001b[32m━━━━━━━━━━━━━━━━━━━━\u001b[0m\u001b[37m\u001b[0m \u001b[1m0s\u001b[0m 49ms/step\n",
            "\u001b[1m1/1\u001b[0m \u001b[32m━━━━━━━━━━━━━━━━━━━━\u001b[0m\u001b[37m\u001b[0m \u001b[1m0s\u001b[0m 42ms/step\n"
          ]
        },
        {
          "output_type": "stream",
          "name": "stderr",
          "text": [
            "\r[*********************100%***********************]  1 of 1 completed\n"
          ]
        },
        {
          "output_type": "display_data",
          "data": {
            "text/plain": [
              "<Figure size 1200x600 with 1 Axes>"
            ],
            "image/png": "[encoded data removed]"
          },
          "metadata": {}
        }
      ]
    },
    {
      "cell_type": "markdown",
      "source": [
        "## 9. Conclusion\n"
      ],
      "metadata": {
        "id": "3FI516bLxn4C"
      },
      "id": "3FI516bLxn4C"
    },
    {
      "cell_type": "markdown",
      "source": [
        "\n",
        "\n",
        "###  **Evaluasi Model - Insight dari Metrik**\n",
        "\n",
        "| Metrik   | Nilai   | Interpretasi                                                                 |\n",
        "|----------|---------|------------------------------------------------------------------------------|\n",
        "| **RMSE** | 31.07   | Kesalahan prediksi rata-rata sekitar 31 unit harga emas — cukup rendah.      |\n",
        "| **MAE**  | 24.33   | Rata-rata deviasi absolut dari nilai aktual adalah 24.33 unit.               |\n",
        "| **MAPE** | 1.03%   | Model hanya meleset sekitar 1% dari nilai aktual secara rata-rata — sangat akurat. |\n",
        "| **R²**   | 0.9874  | Model menjelaskan **98.74%** variansi dari data — performa sangat baik.       |\n"
      ],
      "metadata": {
        "id": "MIs8Sud72q2a"
      },
      "id": "MIs8Sud72q2a"
    },
    {
      "cell_type": "markdown",
      "source": [
        "\n",
        "\n",
        "\n",
        "### 9.1 Ringkasan Hasil  \n",
        "- **Model prediksi harga emas** menunjukkan performa sangat baik pada data uji dengan **RMSE: 31.07**, **MAE: 24.33**, dan **MAPE: 1.03%**.  \n",
        "- **Nilai R² sebesar 0.9874** menunjukkan bahwa model mampu menjelaskan hampir seluruh variansi harga emas aktual.  \n",
        "- Grafik *Actual vs Predicted* memperlihatkan prediksi mengikuti pola harga emas dengan sangat akurat, tanpa deviasi yang signifikan.  \n",
        "- Grafik *Training vs Validation Loss* menunjukkan proses pelatihan yang stabil tanpa tanda overfitting, dengan tren loss menurun dan konsisten.\n",
        "-  Prediksi Harga Emas 30 Hari Mendatang penurunan harga emas\n"
      ],
      "metadata": {
        "id": "zXQUPy4M3nzF"
      },
      "id": "zXQUPy4M3nzF"
    },
    {
      "cell_type": "markdown",
      "source": [
        "### 9.2 Business Decisions\n",
        "- Bukan Saat yang Tepat untuk FOMO Investasi Emas\n",
        "Prediksi model menunjukkan potensi penurunan harga emas dalam waktu dekat. Meski tren historis menunjukkan kenaikan, sinyal teknikal dari model saat ini tidak mendukung aksi beli agresif (FOMO).\n",
        "\n",
        "- Strategi Menunggu dan Lihat (Wait-and-See)\n",
        "Investor disarankan untuk menunggu konfirmasi pergerakan harga emas selama beberapa hari ke depan sebelum melakukan aksi beli. Ini dapat menghindari potensi kerugian dari harga yang mungkin terus turun.\n",
        "\n",
        "- Manfaatkan Penurunan Sebagai Peluang\n",
        "Jika harga turun sesuai prediksi, kondisi tersebut bisa dimanfaatkan sebagai entry point jangka panjang yang lebih menguntungkan, dengan syarat pemantauan terus-menerus terhadap indikator pasar lainnya.\n",
        "\n",
        "- Diversifikasi Portofolio\n",
        "Alih-alih hanya fokus pada emas, investor dapat mempertimbangkan instrumen lain seperti saham, crypto, obligasi, atau komoditas lain untuk mengurangi risiko dan volatilitas dari satu aset saja.\n",
        "\n",
        "- Evaluasi Data Eksternal dan Sentimen Pasar\n",
        "Mengingat prediksi penurunan ini bertentangan dengan tren historis, sangat disarankan menggabungkan data makroekonomi dan faktor geopolitik sebagai bahan pertimbangan sebelum keputusan investasi diambil."
      ],
      "metadata": {
        "id": "_-SPY1_06FZr"
      },
      "id": "_-SPY1_06FZr"
    }
  ],
  "metadata": {
    "accelerator": "GPU",
    "colab": {
      "gpuType": "T4",
      "provenance": []
    },
    "kernelspec": {
      "display_name": "Python 3",
      "name": "python3"
    },
    "language_info": {
      "name": "python"
    }
  },
  "nbformat": 4,
  "nbformat_minor": 5
}